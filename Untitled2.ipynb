{
  "nbformat": 4,
  "nbformat_minor": 0,
  "metadata": {
    "colab": {
      "provenance": []
    },
    "kernelspec": {
      "name": "python3",
      "display_name": "Python 3"
    },
    "language_info": {
      "name": "python"
    }
  },
  "cells": [
    {
      "cell_type": "code",
      "execution_count": 2,
      "metadata": {
        "colab": {
          "base_uri": "https://localhost:8080/"
        },
        "id": "IJ75kZQ0BwzG",
        "outputId": "6490579d-a3aa-4674-d1a9-f29893672fe6"
      },
      "outputs": [
        {
          "output_type": "stream",
          "name": "stdout",
          "text": [
            "輸入範圍4\n",
            "1*1=1\n",
            "1*2=2\n",
            "1*3=3\n",
            "1*4=4\n",
            "2*1=2\n",
            "2*2=4\n",
            "2*3=6\n",
            "2*4=8\n",
            "3*1=3\n",
            "3*2=6\n",
            "3*3=9\n",
            "3*4=12\n",
            "4*1=4\n",
            "4*2=8\n",
            "4*3=12\n",
            "4*4=16\n"
          ]
        }
      ],
      "source": [
        "number = int(input(\"輸入範圍\"))\n",
        "for i in range(1, number+1):\n",
        "  for j in range(1, number+1):\n",
        "    print(f\"{i}*{j}={i * j}\")"
      ]
    },
    {
      "cell_type": "code",
      "source": [
        "import random\n",
        "# 生成一個隨機數字，這是要猜的數字\n",
        "target_number = random.randint(1, 100)\n",
        "\n",
        "print(\"歡迎參加猜數字遊戲！\")\n",
        "ans = 0\n",
        "while ans == 0:\n",
        "  guess = int(input(\"你的猜測是?\"))\n",
        "  if guess > target_number:\n",
        "    print(\"低一點\")\n",
        "  elif guess < target_number:\n",
        "    print(\"高一點\")\n",
        "  else:\n",
        "    print(f\"guess right！ the answer is{target_number}\")\n",
        "    ans = 1\n",
        "print(\"遊戲結束\")"
      ],
      "metadata": {
        "colab": {
          "base_uri": "https://localhost:8080/"
        },
        "id": "7TU7495GHd-G",
        "outputId": "a9a780bb-1e90-4950-9442-d94bf5e3b835"
      },
      "execution_count": 4,
      "outputs": [
        {
          "output_type": "stream",
          "name": "stdout",
          "text": [
            "歡迎參加猜數字遊戲！\n",
            "你的猜測是?50\n",
            "高一點\n",
            "你的猜測是?75\n",
            "低一點\n",
            "你的猜測是?68\n",
            "高一點\n",
            "你的猜測是?69\n",
            "高一點\n",
            "你的猜測是?71\n",
            "guess right！ the answer is71\n",
            "遊戲結束\n"
          ]
        }
      ]
    }
  ]
}